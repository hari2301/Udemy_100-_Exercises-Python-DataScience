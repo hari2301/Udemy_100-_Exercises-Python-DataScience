{
  "nbformat": 4,
  "nbformat_minor": 0,
  "metadata": {
    "colab": {
      "name": "Excs(11-20).ipynb",
      "provenance": [],
      "collapsed_sections": [],
      "authorship_tag": "ABX9TyNfB9/RtAkcnvkVGSvk5g5I",
      "include_colab_link": true
    },
    "kernelspec": {
      "name": "python3",
      "display_name": "Python 3"
    },
    "language_info": {
      "name": "python"
    }
  },
  "cells": [
    {
      "cell_type": "markdown",
      "metadata": {
        "id": "view-in-github",
        "colab_type": "text"
      },
      "source": [
        "<a href=\"https://colab.research.google.com/github/hari2301/Udemy_100-_Exercises-Python-DataScience/blob/main/Excs(11_20).ipynb\" target=\"_parent\"><img src=\"https://colab.research.google.com/assets/colab-badge.svg\" alt=\"Open In Colab\"/></a>"
      ]
    },
    {
      "cell_type": "markdown",
      "metadata": {
        "id": "PDz15OKvHyFp"
      },
      "source": [
        "**use 'get_dummies()' to change the catogerical variables as numerical**"
      ]
    },
    {
      "cell_type": "code",
      "metadata": {
        "colab": {
          "base_uri": "https://localhost:8080/"
        },
        "id": "_re3tTdEFFy1",
        "outputId": "70dac11f-b919-4886-e036-52c26659a88b"
      },
      "source": [
        "import pandas as pd\n",
        "\n",
        "\n",
        "df = pd.DataFrame(data={'weight': [75., 78.5, 85., 91., 84.5, 83., 68.]})\n",
        "df['weight_cut'] = pd.cut(df['weight'], bins=(60, 75, 80, 95), \n",
        "labels=['light', 'normal', 'heavy'])\n",
        "df=pd.get_dummies(df)\n",
        "print(df)"
      ],
      "execution_count": 1,
      "outputs": [
        {
          "output_type": "stream",
          "text": [
            "   weight  weight_cut_light  weight_cut_normal  weight_cut_heavy\n",
            "0    75.0                 1                  0                 0\n",
            "1    78.5                 0                  1                 0\n",
            "2    85.0                 0                  0                 1\n",
            "3    91.0                 0                  0                 1\n",
            "4    84.5                 0                  0                 1\n",
            "5    83.0                 0                  0                 1\n",
            "6    68.0                 1                  0                 0\n"
          ],
          "name": "stdout"
        }
      ]
    },
    {
      "cell_type": "markdown",
      "metadata": {
        "id": "-2KIZqj0IhBj"
      },
      "source": [
        "**create a new column 'number' and display the count of each list of a currency column**"
      ]
    },
    {
      "cell_type": "code",
      "metadata": {
        "colab": {
          "base_uri": "https://localhost:8080/"
        },
        "id": "eVxgV9UcHxgc",
        "outputId": "4eba0ac2-f90b-42df-db47-636b73e9a64f"
      },
      "source": [
        "import pandas as pd\n",
        "\n",
        "\n",
        "data_dict = {\n",
        "    'currency': [['PLN', 'USD'], ['EUR', 'USD', 'PLN', 'CAD'], ['GBP'], ['JPY', 'CZK', 'HUF'], []]\n",
        "}\n",
        "df = pd.DataFrame(data=data_dict)\n",
        "df['number']=df['currency'].apply(len)\n",
        "print(df)"
      ],
      "execution_count": 2,
      "outputs": [
        {
          "output_type": "stream",
          "text": [
            "               currency  number\n",
            "0            [PLN, USD]       2\n",
            "1  [EUR, USD, PLN, CAD]       4\n",
            "2                 [GBP]       1\n",
            "3       [JPY, CZK, HUF]       3\n",
            "4                    []       0\n"
          ],
          "name": "stdout"
        }
      ]
    },
    {
      "cell_type": "markdown",
      "metadata": {
        "id": "YZTVqePcL16K"
      },
      "source": [
        "**In new column set 1 if PLN avaliable in currency else set 0 **"
      ]
    },
    {
      "cell_type": "code",
      "metadata": {
        "colab": {
          "base_uri": "https://localhost:8080/"
        },
        "id": "uNofDUl_I5Jj",
        "outputId": "acd9d2d8-d775-4fab-8c10-65ccd5a67313"
      },
      "source": [
        "import pandas as pd\n",
        "\n",
        "\n",
        "data_dict = {\n",
        "    'currency': [['PLN', 'USD'], ['EUR', 'USD', 'PLN', 'CAD'], ['GBP'], ['JPY', 'CZK', 'HUF'], []]\n",
        "}\n",
        "df = pd.DataFrame(data=data_dict)\n",
        "df['PLN_flag']=df['currency'].apply(lambda item: 1 if 'PLN' in item else 0)\n",
        "print(df)"
      ],
      "execution_count": 4,
      "outputs": [
        {
          "output_type": "stream",
          "text": [
            "               currency  PLN_flag\n",
            "0            [PLN, USD]         1\n",
            "1  [EUR, USD, PLN, CAD]         1\n",
            "2                 [GBP]         0\n",
            "3       [JPY, CZK, HUF]         0\n",
            "4                    []         0\n"
          ],
          "name": "stdout"
        }
      ]
    },
    {
      "cell_type": "markdown",
      "metadata": {
        "id": "YO_x5z_NYDBk"
      },
      "source": [
        "**split the column values with hashtags, drop the empty column that created, give the each value to each column**"
      ]
    },
    {
      "cell_type": "code",
      "metadata": {
        "colab": {
          "base_uri": "https://localhost:8080/"
        },
        "id": "5GTLcCfcL1Lg",
        "outputId": "b411c156-39c5-4a3b-f25b-121b36171c42"
      },
      "source": [
        "import pandas as pd\n",
        "\n",
        "\n",
        "df = pd.DataFrame(data={'hashtags': ['#good#vibes', '#hot#summer#holiday', '#street#food', '#workout']})\n",
        "df=df['hashtags'].str.split('#',expand=True)\n",
        "df=df.drop(columns=[0])\n",
        "df.columns=['hashtag1','hashtag2','hashtag3']\n",
        "print(df)"
      ],
      "execution_count": 5,
      "outputs": [
        {
          "output_type": "stream",
          "text": [
            "  hashtag1 hashtag2 hashtag3\n",
            "0     good    vibes     None\n",
            "1      hot   summer  holiday\n",
            "2   street     food     None\n",
            "3  workout     None     None\n"
          ],
          "name": "stdout"
        }
      ]
    },
    {
      "cell_type": "markdown",
      "metadata": {
        "id": "iUVTTxGXZ12B"
      },
      "source": [
        "**create new column 'missing', add the missing values of the rows in new column**"
      ]
    },
    {
      "cell_type": "code",
      "metadata": {
        "colab": {
          "base_uri": "https://localhost:8080/"
        },
        "id": "5_wHswvaYCbE",
        "outputId": "d7e7fbd9-8a2d-49d3-c234-6245e576168f"
      },
      "source": [
        "import pandas as pd\n",
        "\n",
        "\n",
        "df = pd.DataFrame(data={'hashtags': ['#good#vibes', '#hot#summer#holiday', '#street#food', '#workout']})\n",
        "df = df['hashtags'].str.split('#', expand=True)\n",
        "df = df.drop(columns=[0])\n",
        "df.columns = ['hashtag1', 'hashtag2', 'hashtag3']\n",
        "df['missing']=df.isnull().sum(axis=1)\n",
        "print(df)"
      ],
      "execution_count": 7,
      "outputs": [
        {
          "output_type": "stream",
          "text": [
            "  hashtag1 hashtag2 hashtag3  missing\n",
            "0     good    vibes     None        1\n",
            "1      hot   summer  holiday        0\n",
            "2   street     food     None        1\n",
            "3  workout     None     None        2\n"
          ],
          "name": "stdout"
        }
      ]
    },
    {
      "cell_type": "markdown",
      "metadata": {
        "id": "Ywpxp1MlaRvf"
      },
      "source": [
        "**change the data type of the investment column as 'int'**"
      ]
    },
    {
      "cell_type": "code",
      "metadata": {
        "colab": {
          "base_uri": "https://localhost:8080/"
        },
        "id": "RJCaR1_RZ1IV",
        "outputId": "1d88482a-852f-4ebd-ee50-13397646d40d"
      },
      "source": [
        "import pandas as pd\n",
        "\n",
        "\n",
        "df = pd.DataFrame(data={'investments': ['100_000_000', '100_000', '30_000_000', '100_500_000']})\n",
        "df['investments']=df['investments'].astype('int')\n",
        "print(df)"
      ],
      "execution_count": 9,
      "outputs": [
        {
          "output_type": "stream",
          "text": [
            "   investments\n",
            "0    100000000\n",
            "1       100000\n",
            "2     30000000\n",
            "3    100500000\n"
          ],
          "name": "stdout"
        }
      ]
    },
    {
      "cell_type": "code",
      "metadata": {
        "colab": {
          "base_uri": "https://localhost:8080/"
        },
        "id": "U_OQx_OLaRKj",
        "outputId": "fa8f0466-b2ee-4787-d4d7-290a2a993eb6"
      },
      "source": [
        "from sklearn.datasets import load_iris\n",
        "data=load_iris()\n",
        "print(data.keys())"
      ],
      "execution_count": 10,
      "outputs": [
        {
          "output_type": "stream",
          "text": [
            "dict_keys(['data', 'target', 'target_names', 'DESCR', 'feature_names', 'filename'])\n"
          ],
          "name": "stdout"
        }
      ]
    },
    {
      "cell_type": "code",
      "metadata": {
        "colab": {
          "base_uri": "https://localhost:8080/"
        },
        "id": "qu83yUwbfqLD",
        "outputId": "f656a2a1-1fa3-4d06-9da7-7c9feaeeabdd"
      },
      "source": [
        "from sklearn.datasets import load_iris\n",
        "\n",
        "\n",
        "data = load_iris()\n",
        "print(data['feature_names'])\n",
        "print(data['target_names'])"
      ],
      "execution_count": 11,
      "outputs": [
        {
          "output_type": "stream",
          "text": [
            "['sepal length (cm)', 'sepal width (cm)', 'petal length (cm)', 'petal width (cm)']\n",
            "['setosa' 'versicolor' 'virginica']\n"
          ],
          "name": "stdout"
        }
      ]
    },
    {
      "cell_type": "code",
      "metadata": {
        "colab": {
          "base_uri": "https://localhost:8080/"
        },
        "id": "5S9YAQz9gqK-",
        "outputId": "40af0548-306e-4e82-e742-b15b7061ef12"
      },
      "source": [
        "from sklearn.datasets import load_iris\n",
        "\n",
        "\n",
        "data_raw = load_iris()\n",
        "data=data_raw['data']\n",
        "target=data_raw['target']\n",
        "print(data.shape)\n",
        "print(target.shape)"
      ],
      "execution_count": 12,
      "outputs": [
        {
          "output_type": "stream",
          "text": [
            "(150, 4)\n",
            "(150,)\n"
          ],
          "name": "stdout"
        }
      ]
    },
    {
      "cell_type": "code",
      "metadata": {
        "colab": {
          "base_uri": "https://localhost:8080/"
        },
        "id": "6X6FF2iahi5h",
        "outputId": "b339b376-01bb-48cd-80ab-c57109efe91c"
      },
      "source": [
        "from sklearn.datasets import load_iris\n",
        "from sklearn.model_selection import train_test_split\n",
        "\n",
        "\n",
        "data_raw = load_iris()\n",
        "data = data_raw['data']\n",
        "target = data_raw['target']\n",
        "data_train,data_test,target_train,target_test=train_test_split(data,target,test_size=0.3)\n",
        "print(f'data_train shape: {data_train.shape}')\n",
        "print(f'target_train shape: {target_train.shape}')\n",
        "print(f'data_test shape: {data_test.shape}')\n",
        "print(f'target_test shape: {target_test.shape}')"
      ],
      "execution_count": 14,
      "outputs": [
        {
          "output_type": "stream",
          "text": [
            "data_train shape: (105, 4)\n",
            "target_train shape: (105,)\n",
            "data_test shape: (45, 4)\n",
            "target_test shape: (45,)\n"
          ],
          "name": "stdout"
        }
      ]
    },
    {
      "cell_type": "code",
      "metadata": {
        "id": "-lfmPTpBjOVC"
      },
      "source": [
        ""
      ],
      "execution_count": null,
      "outputs": []
    }
  ]
}