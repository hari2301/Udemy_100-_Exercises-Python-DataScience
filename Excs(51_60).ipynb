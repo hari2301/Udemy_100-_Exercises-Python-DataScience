{
  "nbformat": 4,
  "nbformat_minor": 0,
  "metadata": {
    "colab": {
      "name": "Excs(51-60).ipynb",
      "provenance": [],
      "authorship_tag": "ABX9TyOZq3SWF9je0ht37l5BfuzT",
      "include_colab_link": true
    },
    "kernelspec": {
      "name": "python3",
      "display_name": "Python 3"
    },
    "language_info": {
      "name": "python"
    }
  },
  "cells": [
    {
      "cell_type": "markdown",
      "metadata": {
        "id": "view-in-github",
        "colab_type": "text"
      },
      "source": [
        "<a href=\"https://colab.research.google.com/github/hari2301/Udemy_100-_Exercises-Python-DataScience/blob/main/Excs(51_60).ipynb\" target=\"_parent\"><img src=\"https://colab.research.google.com/assets/colab-badge.svg\" alt=\"Open In Colab\"/></a>"
      ]
    },
    {
      "cell_type": "markdown",
      "metadata": {
        "id": "I4xjwzTJEAeY"
      },
      "source": [
        "**Randomforestclassifier with(random_state=42) print the accuracy of the model**"
      ]
    },
    {
      "cell_type": "code",
      "metadata": {
        "id": "7EaHt6FlranG",
        "colab": {
          "base_uri": "https://localhost:8080/"
        },
        "outputId": "119e2e83-db37-45c6-b6b2-30e00f46a978"
      },
      "source": [
        "import numpy as np\n",
        "import pandas as pd\n",
        "\n",
        "from sklearn.datasets import make_moons\n",
        "from sklearn.model_selection import train_test_split\n",
        "from sklearn.ensemble import RandomForestClassifier\n",
        "\n",
        "\n",
        "np.random.seed(42)\n",
        "raw_data = make_moons(n_samples=2000, noise=0.25, random_state=42)\n",
        "data = raw_data[0]\n",
        "target = raw_data[1]\n",
        "\n",
        "X_train, X_test, y_train, y_test = train_test_split(data, target)\n",
        "\n",
        "model=RandomForestClassifier(random_state=42)\n",
        "model.fit(X_train,y_train)\n",
        "print(f'Accuracy: {model.score(X_test,y_test):.4f}')"
      ],
      "execution_count": null,
      "outputs": [
        {
          "output_type": "stream",
          "text": [
            "Accuracy: 0.9300\n"
          ],
          "name": "stdout"
        }
      ]
    },
    {
      "cell_type": "markdown",
      "metadata": {
        "id": "2yHI7u9wEJIk"
      },
      "source": [
        "**Randomforestclassifier use thr params and find the best socre for that**"
      ]
    },
    {
      "cell_type": "code",
      "metadata": {
        "colab": {
          "base_uri": "https://localhost:8080/"
        },
        "id": "M0RgDckYEIfp",
        "outputId": "cdc7b61b-e748-42fc-fbc7-81afcfcf7dad"
      },
      "source": [
        "#params={ 'criterion':['gini','entropy'], 'max_depth':[6,7,8],'min_samples_leaf':[4,5]}\n",
        "import numpy as np\n",
        "import pandas as pd\n",
        "\n",
        "from sklearn.datasets import make_moons\n",
        "from sklearn.model_selection import train_test_split\n",
        "from sklearn.ensemble import RandomForestClassifier\n",
        "from sklearn.model_selection import GridSearchCV\n",
        "\n",
        "\n",
        "np.random.seed(42)\n",
        "raw_data = make_moons(n_samples=2000, noise=0.25, random_state=42)\n",
        "data = raw_data[0]\n",
        "target = raw_data[1]\n",
        "\n",
        "X_train, X_test, y_train, y_test = train_test_split(data, target)\n",
        "\n",
        "model=RandomForestClassifier()\n",
        "params={ 'criterion':['gini','entropy'], 'max_depth':[6,7,8],\n",
        "    'min_samples_leaf':[4,5]}\n",
        "\n",
        "grid=GridSearchCV(model,param_grid=params,scoring='accuracy',cv=5)\n",
        "grid.fit(X_train,y_train)\n",
        "print(grid.best_params_)"
      ],
      "execution_count": null,
      "outputs": [
        {
          "output_type": "stream",
          "text": [
            "{'criterion': 'gini', 'max_depth': 8, 'min_samples_leaf': 4}\n"
          ],
          "name": "stdout"
        }
      ]
    },
    {
      "cell_type": "markdown",
      "metadata": {
        "id": "OFxqBnvyIavY"
      },
      "source": [
        "**Use the given list, apply count vectorizer on the list, print the each word in the column and its frequency as a value in a dataframe**"
      ]
    },
    {
      "cell_type": "code",
      "metadata": {
        "colab": {
          "base_uri": "https://localhost:8080/"
        },
        "id": "qxYQ_L1LFDxK",
        "outputId": "7060b7e3-3f66-44b9-c848-e0bba9af9924"
      },
      "source": [
        "import numpy as np\n",
        "import pandas as pd\n",
        "\n",
        "from sklearn.feature_extraction.text import CountVectorizer\n",
        "\n",
        "\n",
        "documents = [\n",
        "    'python is a programming language',\n",
        "    'python is popular',\n",
        "    'programming in python',\n",
        "    'object-oriented programming in python'\n",
        "]\n",
        "cv=CountVectorizer()\n",
        "\n",
        "df=pd.DataFrame(data=cv.fit_transform(documents).toarray(),\n",
        "    columns=cv.get_feature_names())\n",
        "print(df)"
      ],
      "execution_count": null,
      "outputs": [
        {
          "output_type": "stream",
          "text": [
            "   in  is  language  object  oriented  popular  programming  python\n",
            "0   0   1         1       0         0        0            1       1\n",
            "1   0   1         0       0         0        1            0       1\n",
            "2   1   0         0       0         0        0            1       1\n",
            "3   1   0         0       1         1        0            1       1\n"
          ],
          "name": "stdout"
        }
      ]
    },
    {
      "cell_type": "markdown",
      "metadata": {
        "id": "JhxyxlHiKDFI"
      },
      "source": [
        "**CountVectorizer (stop_words='english') print with dataframe**"
      ]
    },
    {
      "cell_type": "code",
      "metadata": {
        "colab": {
          "base_uri": "https://localhost:8080/"
        },
        "id": "jJc4LCBgH-yP",
        "outputId": "8ce817ff-4273-4208-8502-e793581f5fe1"
      },
      "source": [
        "import numpy as np\n",
        "import pandas as pd\n",
        "\n",
        "from sklearn.feature_extraction.text import CountVectorizer\n",
        "\n",
        "\n",
        "documents = [\n",
        "    'python is a programming language',\n",
        "    'python is popular',\n",
        "    'programming in python',\n",
        "    'object-oriented programming in python'\n",
        "]\n",
        "cv=CountVectorizer(stop_words='english')\n",
        "\n",
        "df=pd.DataFrame(data=cv.fit_transform(documents).toarray(), columns=cv.get_feature_names())\n",
        "print(df)"
      ],
      "execution_count": null,
      "outputs": [
        {
          "output_type": "stream",
          "text": [
            "   language  object  oriented  popular  programming  python\n",
            "0         1       0         0        0            1       1\n",
            "1         0       0         0        1            0       1\n",
            "2         0       0         0        0            1       1\n",
            "3         0       1         1        0            1       1\n"
          ],
          "name": "stdout"
        }
      ]
    },
    {
      "cell_type": "markdown",
      "metadata": {
        "id": "lgn-CYTTK-We"
      },
      "source": [
        "CountVectorizer(stop_words='english',ngram_range=(1,2)) print the result in the dataframe format"
      ]
    },
    {
      "cell_type": "code",
      "metadata": {
        "id": "dwFqzE7rKCdN"
      },
      "source": [
        "import numpy as np\n",
        "import pandas as pd\n",
        "\n",
        "from sklearn.feature_extraction.text import CountVectorizer\n",
        "\n",
        "\n",
        "pd.set_option('display.width', 200)\n",
        "pd.set_option('display.max_columns', 20)\n",
        "documents = [\n",
        "    'python is a programming language',\n",
        "    'python is popular',\n",
        "    'programming in python',\n",
        "    'object-oriented programming in python',\n",
        "    'programming language'\n",
        "]\n",
        "cv=CountVectorizer(stop_words='english',ngram_range=(1,2))\n",
        "df=pd.DataFrame(data=cv.fit_transform(documents).toarray(),columns=cv.get_feature_names())\n",
        "print(df)"
      ],
      "execution_count": null,
      "outputs": []
    },
    {
      "cell_type": "markdown",
      "metadata": {
        "id": "rjwx4ym2Lim8"
      },
      "source": [
        "**use the list to apply TfidfVectorizer on it and print the result in the dataframe**"
      ]
    },
    {
      "cell_type": "code",
      "metadata": {
        "colab": {
          "base_uri": "https://localhost:8080/"
        },
        "id": "PuDz-gc6Lk9E",
        "outputId": "a2fee15f-2ea7-4118-a028-d20b269c535d"
      },
      "source": [
        "import numpy as np\n",
        "import pandas as pd\n",
        "\n",
        "from sklearn.feature_extraction.text import TfidfVectorizer\n",
        "\n",
        "\n",
        "pd.set_option('display.width', 200)\n",
        "pd.set_option('display.max_columns', 10)\n",
        "pd.set_option('precision', 3)\n",
        "documents = [\n",
        "    'python is a programming language',\n",
        "    'python is popular',\n",
        "    'programming in python',\n",
        "    'object-oriented programming in python',\n",
        "    'programming language'\n",
        "]\n",
        "tf=TfidfVectorizer()\n",
        "df=pd.DataFrame(data=tf.fit_transform(documents).toarray(), columns=tf.get_feature_names())\n",
        "print(df)"
      ],
      "execution_count": null,
      "outputs": [
        {
          "output_type": "stream",
          "text": [
            "      in     is  language  object  oriented  popular  programming  python\n",
            "0  0.000  0.580      0.58   0.000     0.000    0.000        0.405   0.405\n",
            "1  0.000  0.575      0.00   0.000     0.000    0.713        0.000   0.402\n",
            "2  0.712  0.000      0.00   0.000     0.000    0.000        0.497   0.497\n",
            "3  0.445  0.000      0.00   0.552     0.552    0.000        0.311   0.311\n",
            "4  0.000  0.000      0.82   0.000     0.000    0.000        0.573   0.000\n"
          ],
          "name": "stdout"
        }
      ]
    },
    {
      "cell_type": "markdown",
      "metadata": {
        "id": "tcImoj_xLv6U"
      },
      "source": [
        "**TfidfVectorizer(remove the word['is','in']) and print the result in data frame**"
      ]
    },
    {
      "cell_type": "code",
      "metadata": {
        "colab": {
          "base_uri": "https://localhost:8080/"
        },
        "id": "LbH-lBvcLleS",
        "outputId": "84312803-3c82-4f40-f328-a1862de2842d"
      },
      "source": [
        "import numpy as np\n",
        "import pandas as pd\n",
        "\n",
        "from sklearn.feature_extraction.text import TfidfVectorizer\n",
        "\n",
        "\n",
        "pd.set_option('display.width', 200)\n",
        "pd.set_option('display.max_columns', 10)\n",
        "pd.set_option('precision', 3)\n",
        "documents = [\n",
        "    'python is a programming language',\n",
        "    'python is popular',\n",
        "    'programming in python',\n",
        "    'object-oriented programming in python',\n",
        "    'programming language'\n",
        "]\n",
        "tf=TfidfVectorizer(stop_words=['is','in'])\n",
        "\n",
        "df=pd.DataFrame(data=tf.fit_transform(documents).toarray(),\n",
        "columns=tf.get_feature_names())\n",
        "print(df)"
      ],
      "execution_count": null,
      "outputs": [
        {
          "output_type": "stream",
          "text": [
            "   language  object  oriented  popular  programming  python\n",
            "0     0.712   0.000     0.000    0.000        0.497   0.497\n",
            "1     0.000   0.000     0.000    0.871        0.000   0.491\n",
            "2     0.000   0.000     0.000    0.000        0.707   0.707\n",
            "3     0.000   0.616     0.616    0.000        0.347   0.347\n",
            "4     0.820   0.000     0.000    0.000        0.573   0.000\n"
          ],
          "name": "stdout"
        }
      ]
    },
    {
      "cell_type": "code",
      "metadata": {
        "id": "hOKZt2Y7M3iw"
      },
      "source": [
        "    import numpy as np\n",
        "    from numpy.linalg import norm\n",
        "    import pandas as pd\n",
        "    import random\n",
        "     \n",
        "     \n",
        "    np.random.seed(42)\n",
        "    df = pd.read_csv('data.csv')\n",
        "     \n",
        "    x1_min = df.x1.min()\n",
        "    x1_max = df.x1.max()\n",
        "     \n",
        "    x2_min = df.x2.min()\n",
        "    x2_max = df.x2.max()\n",
        "     \n",
        "    centroid_1 = np.array([random.uniform(x1_min, x1_max), random.uniform(x2_min, x2_max)])\n",
        "    centroid_2 = np.array([random.uniform(x1_min, x1_max), random.uniform(x2_min, x2_max)])\n",
        "     \n",
        "    data = df.values\n",
        "     \n",
        "    for i in range(10):\n",
        "        clusters = []\n",
        "        for point in data:\n",
        "            centroid_1_dist = norm(centroid_1 - point)\n",
        "            centroid_2_dist = norm(centroid_2 - point)\n",
        "            cluster = 1\n",
        "            if centroid_1_dist > centroid_2_dist:\n",
        "                cluster = 2\n",
        "            clusters.append(cluster)\n",
        "     \n",
        "        df['cluster'] = clusters\n",
        "     \n",
        "        centroid_1 = [round(df[df.cluster == 1].x1.mean(), 3), round(df[df.cluster == 1].x2.mean(), 3)]\n",
        "        centroid_2 = [round(df[df.cluster == 2].x1.mean(), 3), round(df[df.cluster == 2].x2.mean(), 3)]\n",
        "     \n",
        "    print(centroid_1)\n",
        "    print(centroid_2)"
      ],
      "execution_count": null,
      "outputs": []
    },
    {
      "cell_type": "code",
      "metadata": {
        "id": "ndq33qp8dr5l"
      },
      "source": [
        ""
      ],
      "execution_count": null,
      "outputs": []
    }
  ]
}