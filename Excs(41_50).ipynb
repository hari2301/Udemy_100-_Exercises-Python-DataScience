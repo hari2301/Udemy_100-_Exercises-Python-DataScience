{
  "nbformat": 4,
  "nbformat_minor": 0,
  "metadata": {
    "colab": {
      "name": "Excs(41-50).ipynb",
      "provenance": [],
      "authorship_tag": "ABX9TyMyzsuyGGjHvcvxboP5TLLA"
    },
    "kernelspec": {
      "name": "python3",
      "display_name": "Python 3"
    },
    "language_info": {
      "name": "python"
    }
  },
  "cells": [
    {
      "cell_type": "markdown",
      "metadata": {
        "id": "azgATN0tDW47"
      },
      "source": [
        "**create a function sigmoid ,use the sigmoid calculation. apply it for the given dataframe, display the value at new dataframe**"
      ]
    },
    {
      "cell_type": "code",
      "metadata": {
        "colab": {
          "base_uri": "https://localhost:8080/"
        },
        "id": "3wN7VwWADQB9",
        "outputId": "12b0fa29-d2c2-47cb-fefa-c71b7abd87e7"
      },
      "source": [
        "import numpy as np\n",
        "import pandas as pd\n",
        "\n",
        "\n",
        "np.random.seed(42)\n",
        "df = pd.DataFrame(data=np.random.randn(10), columns=['var1'])\n",
        "\n",
        "def sigmoid(x):\n",
        "    #return 1/1+np.exp(-x)\n",
        "    return 1/(1+np.exp(-x))\n",
        "    \n",
        "df['var1_sigmoid']=df['var1'].apply(sigmoid)\n",
        "print(df)"
      ],
      "execution_count": 2,
      "outputs": [
        {
          "output_type": "stream",
          "text": [
            "       var1  var1_sigmoid\n",
            "0  0.496714      0.621687\n",
            "1 -0.138264      0.465489\n",
            "2  0.647689      0.656489\n",
            "3  1.523030      0.820984\n",
            "4 -0.234153      0.441728\n",
            "5 -0.234137      0.441732\n",
            "6  1.579213      0.829093\n",
            "7  0.767435      0.682966\n",
            "8 -0.469474      0.384741\n",
            "9  0.542560      0.632408\n"
          ],
          "name": "stdout"
        }
      ]
    },
    {
      "cell_type": "markdown",
      "metadata": {
        "id": "2NYTkLWSEma8"
      },
      "source": [
        "**apply standared scaler for the given dataset and print the scaled values**"
      ]
    },
    {
      "cell_type": "code",
      "metadata": {
        "id": "Dm1IWGkYDVdV"
      },
      "source": [
        "import numpy as np\n",
        "import pandas as pd\n",
        "from sklearn.preprocessing import StandardScaler\n",
        "\n",
        "\n",
        "np.set_printoptions(precision=4, suppress=True)\n",
        "df=pd.read_csv('data.csv')\n",
        "\n",
        "sc=StandardScaler()\n",
        "print(sc.fit_transform(df))"
      ],
      "execution_count": null,
      "outputs": []
    },
    {
      "cell_type": "markdown",
      "metadata": {
        "id": "BoDmWoKtGIJu"
      },
      "source": [
        "**apply standardscaler for the given dataset (fit X_train) and print first 5 rows of scaled values**"
      ]
    },
    {
      "cell_type": "code",
      "metadata": {
        "id": "FaLt5_bfEjAa"
      },
      "source": [
        "import numpy as np\n",
        "import pandas as pd\n",
        "from sklearn.preprocessing import StandardScaler\n",
        "\n",
        "\n",
        "np.set_printoptions(precision=4, suppress=True)\n",
        "\n",
        "X_train=pd.read_csv('X_train.csv')\n",
        "X_test=pd.read_csv('X_test.csv')\n",
        "\n",
        "sc=StandardScaler()\n",
        "sc.fit(X_train)\n",
        "train_scale=sc.transform(X_train)\n",
        "test_scale=sc.transform(X_test)\n",
        "\n",
        "print(train_scale[:5])\n",
        "print(test_scale[:5])"
      ],
      "execution_count": null,
      "outputs": []
    },
    {
      "cell_type": "markdown",
      "metadata": {
        "id": "7qDwNMieI_7m"
      },
      "source": [
        "**calculate the entropy for the given column, diaply the result in new column**"
      ]
    },
    {
      "cell_type": "code",
      "metadata": {
        "colab": {
          "base_uri": "https://localhost:8080/"
        },
        "id": "Kh9D2OsXHPQP",
        "outputId": "7293442b-1839-4160-ab76-f49408cfcb92"
      },
      "source": [
        "import numpy as np\n",
        "import pandas as pd\n",
        "\n",
        "\n",
        "def entropy(x):\n",
        "    return np.round(-np.sum(x * np.log2(x)), 4)\n",
        "\n",
        "\n",
        "df = pd.DataFrame({'val_1': np.arange(0.01, 1.0, 0.1), 'val_2': 1 - np.arange(0.01, 1.0, 0.1)})\n",
        "df['entropy']=[ entropy([x[1][0],x[1][1]]) for x in df.iterrows()]\n",
        "print(df)"
      ],
      "execution_count": 17,
      "outputs": [
        {
          "output_type": "stream",
          "text": [
            "   val_1  val_2  entropy\n",
            "0   0.01   0.99   0.0808\n",
            "1   0.11   0.89   0.4999\n",
            "2   0.21   0.79   0.7415\n",
            "3   0.31   0.69   0.8932\n",
            "4   0.41   0.59   0.9765\n",
            "5   0.51   0.49   0.9997\n",
            "6   0.61   0.39   0.9648\n",
            "7   0.71   0.29   0.8687\n",
            "8   0.81   0.19   0.7015\n",
            "9   0.91   0.09   0.4365\n"
          ],
          "name": "stdout"
        }
      ]
    },
    {
      "cell_type": "markdown",
      "metadata": {
        "id": "gpwvFNS_JytV"
      },
      "source": [
        "**for the given df find the accuracy score using the library**"
      ]
    },
    {
      "cell_type": "code",
      "metadata": {
        "id": "80hh5ubCHVHI"
      },
      "source": [
        "import numpy as np\n",
        "import pandas as pd\n",
        "from sklearn.metrics import accuracy_score\n",
        "\n",
        "df=pd.read_csv('predictions.csv')\n",
        "\n",
        "print('Accuracy:', accuracy_score(df['y_true'],df['y_pred']).round(4))"
      ],
      "execution_count": null,
      "outputs": []
    },
    {
      "cell_type": "markdown",
      "metadata": {
        "id": "c3IHIztxKcUy"
      },
      "source": [
        "**find the confusion matrix using the library**"
      ]
    },
    {
      "cell_type": "code",
      "metadata": {
        "id": "9lW3XH0SH1OQ"
      },
      "source": [
        "import numpy as np\n",
        "import pandas as pd\n",
        "from sklearn.metrics import confusion_matrix\n",
        "\n",
        "df=pd.read_csv('predictions.csv')\n",
        "\n",
        "cm=confusion_matrix(df['y_true'],df['y_pred'])\n",
        "print(cm)"
      ],
      "execution_count": null,
      "outputs": []
    },
    {
      "cell_type": "markdown",
      "metadata": {
        "id": "1OAnR1lhLoRT"
      },
      "source": [
        "**find the accuracy for the given data by using the 'decisiontreeclassifier' model with default parameter**"
      ]
    },
    {
      "cell_type": "code",
      "metadata": {
        "colab": {
          "base_uri": "https://localhost:8080/"
        },
        "id": "qZCKT2GbLoE1",
        "outputId": "8b9b10a8-4b37-418d-bcf4-01a148286d20"
      },
      "source": [
        "import numpy as np\n",
        "import pandas as pd\n",
        "\n",
        "from sklearn.datasets import make_moons\n",
        "from sklearn.model_selection import train_test_split\n",
        "from sklearn.tree import DecisionTreeClassifier\n",
        "\n",
        "\n",
        "np.random.seed(42)\n",
        "raw_data = make_moons(n_samples=2000, noise=0.25, random_state=42)\n",
        "data = raw_data[0]\n",
        "target = raw_data[1]\n",
        "\n",
        "X_train, X_test, y_train, y_test = train_test_split(data, target)\n",
        "\n",
        "model=DecisionTreeClassifier()\n",
        "model.fit(X_train,y_train)\n",
        "score=model.score(X_test,y_test)\n",
        "print(f'Accuracy: {score:.4f}')"
      ],
      "execution_count": 18,
      "outputs": [
        {
          "output_type": "stream",
          "text": [
            "Accuracy: 0.9020\n"
          ],
          "name": "stdout"
        }
      ]
    },
    {
      "cell_type": "markdown",
      "metadata": {
        "id": "XtH8dBFKMcjg"
      },
      "source": [
        "**find the accuracy for the given data by using the 'decisiontreeclassifier' model with(max_depth=6)**"
      ]
    },
    {
      "cell_type": "code",
      "metadata": {
        "colab": {
          "base_uri": "https://localhost:8080/"
        },
        "id": "1sKz2gtJL0wA",
        "outputId": "4adc2d75-b257-42dc-e370-914e5e8e445f"
      },
      "source": [
        "import numpy as np\n",
        "import pandas as pd\n",
        "\n",
        "from sklearn.datasets import make_moons\n",
        "from sklearn.model_selection import train_test_split\n",
        "from sklearn.tree import DecisionTreeClassifier\n",
        "\n",
        "\n",
        "np.random.seed(42)\n",
        "raw_data = make_moons(n_samples=2000, noise=0.25, random_state=42)\n",
        "data = raw_data[0]\n",
        "target = raw_data[1]\n",
        "\n",
        "X_train, X_test, y_train, y_test = train_test_split(data, target)\n",
        "\n",
        "model=DecisionTreeClassifier(max_depth=6)\n",
        "model.fit(X_train,y_train)\n",
        "score=model.score(X_test,y_test)\n",
        "print(f'Accuracy: {score:.4f}')"
      ],
      "execution_count": 19,
      "outputs": [
        {
          "output_type": "stream",
          "text": [
            "Accuracy: 0.9280\n"
          ],
          "name": "stdout"
        }
      ]
    },
    {
      "cell_type": "markdown",
      "metadata": {
        "id": "Zu11eYpKM8vW"
      },
      "source": [
        "**find the accuracy for the given data by using the 'decisiontreeclassifier' model with(max_depth=6, min_samples_leaf=6)**"
      ]
    },
    {
      "cell_type": "code",
      "metadata": {
        "colab": {
          "base_uri": "https://localhost:8080/"
        },
        "id": "wJptuVw1MgYI",
        "outputId": "0e0767f4-2d47-4bc3-8892-2a46979866d0"
      },
      "source": [
        "import numpy as np\n",
        "import pandas as pd\n",
        "\n",
        "from sklearn.datasets import make_moons\n",
        "from sklearn.model_selection import train_test_split\n",
        "from sklearn.tree import DecisionTreeClassifier\n",
        "\n",
        "\n",
        "np.random.seed(42)\n",
        "raw_data = make_moons(n_samples=2000, noise=0.25, random_state=42)\n",
        "data = raw_data[0]\n",
        "target = raw_data[1]\n",
        "\n",
        "X_train, X_test, y_train, y_test = train_test_split(data, target)\n",
        "\n",
        "model=DecisionTreeClassifier(max_depth=6,min_samples_leaf=6)\n",
        "model.fit(X_train,y_train)\n",
        "\n",
        "score=model.score(X_test,y_test)\n",
        "print(f'Accuracy: {score:.4f}')"
      ],
      "execution_count": 20,
      "outputs": [
        {
          "output_type": "stream",
          "text": [
            "Accuracy: 0.9300\n"
          ],
          "name": "stdout"
        }
      ]
    },
    {
      "cell_type": "markdown",
      "metadata": {
        "id": "ldzlecNKSh40"
      },
      "source": [
        "('max_depth':np.arange(1,10),)\n",
        "\n",
        "('min_samples_leaf':[1,2,3,4,5,6,7,8,9,10,15,20])\n",
        "\n",
        "**use 'GridSearchCV(score='accuracy',cv=5)'**\n",
        "\n",
        "**print the best value for 'max_depth' and 'min_samples_leaf'**"
      ]
    },
    {
      "cell_type": "code",
      "metadata": {
        "colab": {
          "base_uri": "https://localhost:8080/"
        },
        "id": "l67GZLLzNEM_",
        "outputId": "0c20a957-52e9-42a4-b209-641bced3cc92"
      },
      "source": [
        "import numpy as np\n",
        "import pandas as pd\n",
        "\n",
        "from sklearn.datasets import make_moons\n",
        "from sklearn.model_selection import train_test_split\n",
        "from sklearn.tree import DecisionTreeClassifier\n",
        "from sklearn.model_selection import GridSearchCV\n",
        "\n",
        "np.random.seed(42)\n",
        "raw_data = make_moons(n_samples=2000, noise=0.25, random_state=42)\n",
        "data = raw_data[0]\n",
        "target = raw_data[1]\n",
        "\n",
        "X_train, X_test, y_train, y_test = train_test_split(data, target)\n",
        "\n",
        "classifier=DecisionTreeClassifier()\n",
        "\n",
        "params={'max_depth':np.arange(1,10),\n",
        "            'min_samples_leaf':[1,2,3,4,5,6,7,8,9,10,15,20]}\n",
        "\n",
        "grid_search = GridSearchCV(classifier, param_grid=params, scoring='accuracy', cv=5)\n",
        "grid_search.fit(X_train, y_train)\n",
        "print(grid_search.best_params_)\n"
      ],
      "execution_count": 33,
      "outputs": [
        {
          "output_type": "stream",
          "text": [
            "{'max_depth': 6, 'min_samples_leaf': 6}\n"
          ],
          "name": "stdout"
        }
      ]
    }
  ]
}