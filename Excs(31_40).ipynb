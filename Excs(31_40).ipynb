{
  "nbformat": 4,
  "nbformat_minor": 0,
  "metadata": {
    "colab": {
      "name": "Excs(31-40).ipynb",
      "provenance": [],
      "authorship_tag": "ABX9TyM8BPyzLNfBqRLAXkcWTT+y",
      "include_colab_link": true
    },
    "kernelspec": {
      "name": "python3",
      "display_name": "Python 3"
    },
    "language_info": {
      "name": "python"
    }
  },
  "cells": [
    {
      "cell_type": "markdown",
      "metadata": {
        "id": "view-in-github",
        "colab_type": "text"
      },
      "source": [
        "<a href=\"https://colab.research.google.com/github/hari2301/Udemy_100-_Exercises-Python-DataScience/blob/main/Excs(31_40).ipynb\" target=\"_parent\"><img src=\"https://colab.research.google.com/assets/colab-badge.svg\" alt=\"Open In Colab\"/></a>"
      ]
    },
    {
      "cell_type": "markdown",
      "metadata": {
        "id": "ZnN1vW0sHTxh"
      },
      "source": [
        "**give the random_state, test_size in train_test_split library, split the train and test data, print their shape**"
      ]
    },
    {
      "cell_type": "code",
      "metadata": {
        "colab": {
          "base_uri": "https://localhost:8080/"
        },
        "id": "xdrktHeWWg5q",
        "outputId": "2cf1e046-ec1d-4345-d7df-7d1e13b2a3af"
      },
      "source": [
        "import numpy as np\n",
        "import pandas as pd\n",
        "from sklearn.datasets import load_breast_cancer\n",
        "from sklearn.model_selection import train_test_split\n",
        "\n",
        "\n",
        "pd.set_option('display.max_columns', 10)\n",
        "pd.set_option('display.width', 200)\n",
        "np.set_printoptions(precision=2, suppress=True, linewidth=100)\n",
        "raw_data = load_breast_cancer()\n",
        "\n",
        "data = raw_data['data']\n",
        "target = raw_data['target']\n",
        "#=========================\n",
        "x_train,x_test,y_train,y_test=train_test_split(data,target,random_state=40,test_size=0.25)\n",
        "print('x_train shape ', x_train.shape)\n",
        "print('y_train shape', y_train.shape)\n",
        "print('x_test shape',x_test.shape)\n",
        "print('y_test shape', y_test.shape)"
      ],
      "execution_count": null,
      "outputs": [
        {
          "output_type": "stream",
          "text": [
            "x_train shape  (426, 30)\n",
            "y_train shape (426,)\n",
            "x_test shape (143, 30)\n",
            "y_test shape (143,)\n"
          ],
          "name": "stdout"
        }
      ]
    },
    {
      "cell_type": "markdown",
      "metadata": {
        "id": "8KOQjTwDVYVF"
      },
      "source": [
        "**print the distribution of the given target and data variables**"
      ]
    },
    {
      "cell_type": "code",
      "metadata": {
        "id": "vr2H8XyEdqcW",
        "colab": {
          "base_uri": "https://localhost:8080/"
        },
        "outputId": "ea870396-164d-493a-92ef-709f7ef31d1a"
      },
      "source": [
        "import numpy as np\n",
        "import pandas as pd\n",
        "from sklearn.datasets import load_breast_cancer\n",
        "from sklearn.model_selection import train_test_split\n",
        "\n",
        "\n",
        "pd.set_option('display.max_columns', 10)\n",
        "pd.set_option('display.width', 200)\n",
        "np.set_printoptions(precision=2, suppress=True, linewidth=100)\n",
        "raw_data = load_breast_cancer()\n",
        "\n",
        "data = raw_data['data']\n",
        "target = raw_data['target']\n",
        "\n",
        "X_train, X_test, y_train, y_test = train_test_split(data, target, random_state=40, test_size=0.25)\n",
        "print('target', np.unique(target,return_counts=True)[1]/len(target))\n",
        "print('y_train', np.unique(y_train,return_counts=True)[1]/len(y_train))\n",
        "print('y_test', np.unique(y_test,return_counts=True)[1]/len(y_test))"
      ],
      "execution_count": null,
      "outputs": [
        {
          "output_type": "stream",
          "text": [
            "target [0.37 0.63]\n",
            "y_train [0.39 0.61]\n",
            "y_test [0.31 0.69]\n"
          ],
          "name": "stdout"
        }
      ]
    },
    {
      "cell_type": "code",
      "metadata": {
        "colab": {
          "base_uri": "https://localhost:8080/"
        },
        "id": "lWCFnizn3LO-",
        "outputId": "ec9fa1ac-9abf-4ef2-beff-03459ef3aacc"
      },
      "source": [
        "import numpy as np\n",
        "import pandas as pd\n",
        "from sklearn.datasets import load_breast_cancer\n",
        "from sklearn.model_selection import train_test_split\n",
        "\n",
        "\n",
        "pd.set_option('display.max_columns', 10)\n",
        "pd.set_option('display.width', 200)\n",
        "np.set_printoptions(precision=2, suppress=True, linewidth=100)\n",
        "raw_data = load_breast_cancer()\n",
        "\n",
        "data = raw_data['data']\n",
        "target = raw_data['target']\n",
        "x_train,x_test,y_train,y_test=train_test_split(data,target,random_state=40,test_size=0.25,stratify=target)\n",
        "for name,array in zip(['target','y_train','y_test'],[target,y_train,y_test]):\n",
        "    print(f'{name} : {np.unique(array,return_counts=True)[1]/len(array)}')"
      ],
      "execution_count": null,
      "outputs": [
        {
          "output_type": "stream",
          "text": [
            "target : [0.37 0.63]\n",
            "y_train : [0.37 0.63]\n",
            "y_test : [0.37 0.63]\n"
          ],
          "name": "stdout"
        }
      ]
    },
    {
      "cell_type": "markdown",
      "metadata": {
        "id": "m5aVReh_Nhji"
      },
      "source": [
        "**print the linear equation for the given dataframe**"
      ]
    },
    {
      "cell_type": "code",
      "metadata": {
        "id": "5w4FoXa86TY5",
        "colab": {
          "base_uri": "https://localhost:8080/"
        },
        "outputId": "c49da266-45da-4693-8fda-f95c93a4a697"
      },
      "source": [
        "import numpy as np\n",
        "import pandas as pd\n",
        "from sklearn.linear_model import LinearRegression\n",
        "\n",
        "\n",
        "df = pd.DataFrame({'years': [1, 2, 3, 4, 5, 6],\n",
        "                   'salary': [4000, 4250, 4500, 4750, 5000, 5250]})\n",
        "                   \n",
        "                   \n",
        "lr=LinearRegression()\n",
        "lr.fit(df[['years']],df[['salary']])\n",
        "\n",
        "print(f'Linear regression: {lr.intercept_[0]:.2f} + {lr.coef_[0][0]:.2f}x')"
      ],
      "execution_count": 5,
      "outputs": [
        {
          "output_type": "stream",
          "text": [
            "Linear regression: 3750.00 + 250.00x\n"
          ],
          "name": "stdout"
        }
      ]
    },
    {
      "cell_type": "markdown",
      "metadata": {
        "id": "LCqLkfNOQw7n"
      },
      "source": [
        "**print the score of the given data using the LR library**"
      ]
    },
    {
      "cell_type": "code",
      "metadata": {
        "id": "Nhtc7qse4NmV"
      },
      "source": [
        "import numpy as np\n",
        "import pandas as pd\n",
        "from sklearn.linear_model import LinearRegression\n",
        "\n",
        "df=pd.read_csv('data.csv')\n",
        "data=df[['variable']]\n",
        "target=df[['target']]\n",
        "\n",
        "model=LinearRegression()\n",
        "model.fit(data,target)\n",
        "print(model.score(data,target).round(4))"
      ],
      "execution_count": null,
      "outputs": []
    },
    {
      "cell_type": "markdown",
      "metadata": {
        "id": "iD2wk5DQQkKe"
      },
      "source": [
        "**extract the polynomial features of var1 (degree=2)for the given data and print**"
      ]
    },
    {
      "cell_type": "code",
      "metadata": {
        "id": "U57cISmsPWQV"
      },
      "source": [
        "import numpy as np\n",
        "import pandas as pd\n",
        "from sklearn.preprocessing import PolynomialFeatures\n",
        "\n",
        "df=pd.read_csv('data.csv')\n",
        "np.set_printoptions(suppress=True, precision=3)\n",
        "poly=PolynomialFeatures(degree=2)\n",
        "print(poly.fit_transform(df))"
      ],
      "execution_count": null,
      "outputs": []
    },
    {
      "cell_type": "markdown",
      "metadata": {
        "id": "76OsQm8eRthZ"
      },
      "source": [
        "**extract the polynomial features of var1 ,var2(degree=3)for the given data and print**"
      ]
    },
    {
      "cell_type": "code",
      "metadata": {
        "id": "tKqgLekKQ4t_"
      },
      "source": [
        "import numpy as np\n",
        "import pandas as pd\n",
        "from sklearn.preprocessing import PolynomialFeatures\n",
        "\n",
        "\n",
        "np.set_printoptions(suppress=True, precision=3, linewidth=150)\n",
        "df=pd.read_csv('data.csv')\n",
        "\n",
        "poly=PolynomialFeatures(degree=3)\n",
        "print(poly.fit_transform(df))\n"
      ],
      "execution_count": null,
      "outputs": []
    },
    {
      "cell_type": "markdown",
      "metadata": {
        "id": "mif5n_zYTvuK"
      },
      "source": [
        "**create a function mean_absolute_error() with formula. and pass the data set values as arg**"
      ]
    },
    {
      "cell_type": "code",
      "metadata": {
        "id": "-QBFE9QhTvaE"
      },
      "source": [
        "import numpy as np\n",
        "import pandas as pd\n",
        "\n",
        "df=pd.read_csv('predictions.csv')\n",
        "\n",
        "def mean_absolute_error(y_true,y_pred):\n",
        "    return abs(y_true-y_pred).sum()/len(y_pred)\n",
        "\n",
        "mae=mean_absolute_error(df['y_true'],df['y_pred'])\n",
        "print(f'MAE = {mae:.4f}')"
      ],
      "execution_count": null,
      "outputs": []
    },
    {
      "cell_type": "markdown",
      "metadata": {
        "id": "6KC0wBw2VIb3"
      },
      "source": [
        "**create a function mean_squared_error() with its formula. and pass the data set values as arg**"
      ]
    },
    {
      "cell_type": "code",
      "metadata": {
        "id": "b0aQXV6GVFeR"
      },
      "source": [
        "import numpy as np\n",
        "import pandas as pd\n",
        "\n",
        "df=pd.read_csv('predictions.csv')\n",
        "\n",
        "def mean_squared_error(y_true,y_pred):\n",
        "    return ((y_true-y_pred)**2).sum()/len(y_true)\n",
        "\n",
        "mse=mean_squared_error(df['y_true'],df['y_pred'])\n",
        "print(f'MSE = {mse:.4f}')"
      ],
      "execution_count": null,
      "outputs": []
    }
  ]
}